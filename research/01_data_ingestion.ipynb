{
 "cells": [
  {
   "cell_type": "code",
   "execution_count": 1,
   "metadata": {},
   "outputs": [],
   "source": [
    "import os\n",
    "os.chdir('D:\\Deep Learning\\Tensorflow & Keras\\deploy2\\project3')"
   ]
  },
  {
   "cell_type": "code",
   "execution_count": 2,
   "metadata": {},
   "outputs": [
    {
     "data": {
      "text/plain": [
       "'D:\\\\Deep Learning\\\\Tensorflow & Keras\\\\deploy2\\\\project3'"
      ]
     },
     "execution_count": 2,
     "metadata": {},
     "output_type": "execute_result"
    }
   ],
   "source": [
    "%pwd"
   ]
  },
  {
   "cell_type": "code",
   "execution_count": 3,
   "metadata": {},
   "outputs": [],
   "source": [
    "from dataclasses import dataclass\n",
    "from pathlib import Path\n",
    "\n",
    "@dataclass(frozen=True)\n",
    "class DataIngestionConfig:\n",
    "    root_dir: Path\n",
    "    source_url: str\n",
    "    local_data_file: Path\n",
    "    unzip_dir: Path "
   ]
  },
  {
   "cell_type": "code",
   "execution_count": 4,
   "metadata": {},
   "outputs": [],
   "source": [
    "from TomatoDiseases.constant import *\n",
    "from TomatoDiseases.utils.common import read_yaml, create_directories"
   ]
  },
  {
   "cell_type": "code",
   "execution_count": 5,
   "metadata": {},
   "outputs": [],
   "source": [
    "class ConfigManager:\n",
    "    def __init__(self,\n",
    "                 config_filepath = CONFIG_FILE_PATH,\n",
    "                 params_filepath = PARAMS_FILE_PATH):\n",
    "        \n",
    "        self.config = read_yaml(config_filepath)\n",
    "        self.params = read_yaml(params_filepath)\n",
    "        \n",
    "        create_directories([self.config.artifacts_root])\n",
    "        \n",
    "    def get_data_ingestion_config(self) -> DataIngestionConfig:\n",
    "        config = self.config.data_ingestion\n",
    "        create_directories([config.root_dir])\n",
    "        \n",
    "        data_ingestion_config = DataIngestionConfig(\n",
    "            root_dir= config.root_dir,\n",
    "            source_url= config.source_url,\n",
    "            local_data_file= config.local_data_file,\n",
    "            unzip_dir= config.unzip_dir\n",
    "        )\n",
    "        \n",
    "        return data_ingestion_config"
   ]
  },
  {
   "cell_type": "code",
   "execution_count": 9,
   "metadata": {},
   "outputs": [],
   "source": [
    "import os\n",
    "import urllib.request as request\n",
    "import zipfile\n",
    "from TomatoDiseases import logger\n",
    "from TomatoDiseases.utils.common import get_size"
   ]
  },
  {
   "cell_type": "code",
   "execution_count": 12,
   "metadata": {},
   "outputs": [],
   "source": [
    "class DataIngest:\n",
    "    def __init__(self, config: DataIngestionConfig):\n",
    "        self.config = config\n",
    "    \n",
    "    def download_filezip(self):\n",
    "        if not os.path.exists(self.config.local_data_file):\n",
    "            filename, header = request.urlretrieve(\n",
    "                url= self.config.source_url,\n",
    "                filename= self.config.local_data_file\n",
    "            )\n",
    "            logger.info(f'{filename} downloaded with the following info: {header}')\n",
    "        else:\n",
    "            logger.info(f'File already existed of size: {get_size(Path(self.config.local_data_file))}')\n",
    "    \n",
    "    def extract_zipfile(self):\n",
    "        unzip_path = self.config.unzip_dir\n",
    "        os.makedirs(unzip_path, exist_ok=True)\n",
    "        with zipfile.ZipFile(self.config.local_data_file, 'r') as zip_ref:\n",
    "            zip_ref.extractall(unzip_path)"
   ]
  },
  {
   "cell_type": "code",
   "execution_count": 13,
   "metadata": {},
   "outputs": [
    {
     "name": "stdout",
     "output_type": "stream",
     "text": [
      "[2023-07-10 21:20:28,511: INFO: common: yaml file: config.yaml loaded successfully]\n",
      "[2023-07-10 21:20:28,512: INFO: common: yaml file: params.yaml loaded successfully]\n",
      "[2023-07-10 21:20:28,513: INFO: common: created directory at: artifacts]\n",
      "[2023-07-10 21:20:28,514: INFO: common: created directory at: artifacts/data_ingestion]\n",
      "[2023-07-10 21:21:12,131: INFO: 3751046232: artifacts/data_ingestion/data.zip downloaded with the following info: Connection: close\n",
      "Content-Length: 309459957\n",
      "Content-Type: application/octet-stream\n",
      "Content-MD5: 5geTUJtr4Isg40AqDpJA0A==\n",
      "Last-Modified: Mon, 10 Jul 2023 06:33:02 GMT\n",
      "ETag: \"0x8DB810F83119F83\"\n",
      "Server: Windows-Azure-Blob/1.0 Microsoft-HTTPAPI/2.0\n",
      "x-ms-request-id: cd63bb76-601e-0003-5a38-b30031000000\n",
      "x-ms-version: 2020-04-08\n",
      "x-ms-creation-time: Mon, 10 Jul 2023 06:33:02 GMT\n",
      "x-ms-lease-status: unlocked\n",
      "x-ms-lease-state: available\n",
      "x-ms-blob-type: BlockBlob\n",
      "Content-Disposition: attachment; filename=train.zip\n",
      "x-ms-server-encrypted: true\n",
      "Via: 1.1 varnish, 1.1 varnish\n",
      "Fastly-Restarts: 1\n",
      "Accept-Ranges: bytes\n",
      "Age: 321\n",
      "Date: Mon, 10 Jul 2023 14:20:31 GMT\n",
      "X-Served-By: cache-iad-kjyo7100141-IAD, cache-qpg1253-QPG\n",
      "X-Cache: MISS, HIT\n",
      "X-Cache-Hits: 0, 0\n",
      "X-Timer: S1688998831.377232,VS0,VE240\n",
      "\n",
      "]\n"
     ]
    }
   ],
   "source": [
    "try:\n",
    "    config = ConfigManager()\n",
    "    data_ingestion_config = config.get_data_ingestion_config()\n",
    "    data_ingest = DataIngest(config=data_ingestion_config)\n",
    "    data_ingest.download_filezip()\n",
    "    data_ingest.extract_zipfile()\n",
    "except Exception as e:\n",
    "    raise e"
   ]
  },
  {
   "cell_type": "code",
   "execution_count": null,
   "metadata": {},
   "outputs": [],
   "source": []
  }
 ],
 "metadata": {
  "kernelspec": {
   "display_name": "tomato",
   "language": "python",
   "name": "python3"
  },
  "language_info": {
   "codemirror_mode": {
    "name": "ipython",
    "version": 3
   },
   "file_extension": ".py",
   "mimetype": "text/x-python",
   "name": "python",
   "nbconvert_exporter": "python",
   "pygments_lexer": "ipython3",
   "version": "3.8.17"
  },
  "orig_nbformat": 4
 },
 "nbformat": 4,
 "nbformat_minor": 2
}
