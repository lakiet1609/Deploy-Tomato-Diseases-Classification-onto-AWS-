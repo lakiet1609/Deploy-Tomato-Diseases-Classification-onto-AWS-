{
 "cells": [
  {
   "cell_type": "code",
   "execution_count": 24,
   "metadata": {},
   "outputs": [],
   "source": [
    "import os\n",
    "os.chdir('D:\\Deep Learning\\Tensorflow & Keras\\deploy2\\project3')"
   ]
  },
  {
   "cell_type": "code",
   "execution_count": 25,
   "metadata": {},
   "outputs": [],
   "source": [
    "from dataclasses import dataclass\n",
    "from pathlib import Path\n",
    "\n",
    "@dataclass(frozen=True)\n",
    "class PrepareBaseModelConfig:\n",
    "    root_dir: Path\n",
    "    base_model_path: Path\n",
    "    updated_base_model_path: Path\n",
    "    params_image_size: list\n",
    "    params_learning_rate: float\n",
    "    params_include_top: bool\n",
    "    params_weights: str\n",
    "    params_classes: int"
   ]
  },
  {
   "cell_type": "code",
   "execution_count": 26,
   "metadata": {},
   "outputs": [],
   "source": [
    "from TomatoDiseases.constant import *\n",
    "from TomatoDiseases.utils.common import read_yaml, create_directories"
   ]
  },
  {
   "cell_type": "code",
   "execution_count": 27,
   "metadata": {},
   "outputs": [],
   "source": [
    "class ConfigManager:\n",
    "    def __init__(self,\n",
    "                 config_filepath = CONFIG_FILE_PATH,\n",
    "                 params_filepath = PARAMS_FILE_PATH):\n",
    "        \n",
    "        self.config = read_yaml(config_filepath)\n",
    "        self.params = read_yaml(params_filepath)\n",
    "        create_directories([self.config.artifacts_root])\n",
    "        \n",
    "    def prepare_base_model_config(self) -> PrepareBaseModelConfig:\n",
    "        config = self.config.prepare_base_model\n",
    "        create_directories([config.root_dir])\n",
    "        \n",
    "        prepare_base_model_config = PrepareBaseModelConfig(\n",
    "            root_dir= config.root_dir,\n",
    "            base_model_path= config.base_model_path,\n",
    "            updated_base_model_path= config.updated_base_model_path,\n",
    "            params_image_size= self.params.IMAGE_SIZE,\n",
    "            params_learning_rate= self.params.LEARNING_RATE,\n",
    "            params_include_top= self.params.INCLUDE_TOP,\n",
    "            params_weights= self.params.WEIGHTS,\n",
    "            params_classes= self.params.CLASSES\n",
    "        )\n",
    "        \n",
    "        return prepare_base_model_config"
   ]
  },
  {
   "cell_type": "code",
   "execution_count": 28,
   "metadata": {},
   "outputs": [],
   "source": [
    "import os\n",
    "import tensorflow as tf\n",
    "import urllib.request as request\n",
    "from TomatoDiseases import logger\n",
    "from TomatoDiseases.utils.common import *"
   ]
  },
  {
   "cell_type": "code",
   "execution_count": 29,
   "metadata": {},
   "outputs": [],
   "source": [
    "class PrepareBaseModel:\n",
    "    def __init__(self, config: PrepareBaseModelConfig):\n",
    "        self.config = config\n",
    "    \n",
    "    def get_base_model(self):\n",
    "        self.model = tf.keras.applications.vgg16.VGG16(\n",
    "            include_top= self.config.params_include_top,\n",
    "            weights= self.config.params_weights,\n",
    "            input_shape= self.config.params_image_size\n",
    "        )\n",
    "        \n",
    "        self.save_model(path= self.config.base_model_path, model= self.model)\n",
    "\n",
    "    @staticmethod\n",
    "    def prepare_full_model(model, classes, freeze_all, freeze_till, learning_rate):\n",
    "        if freeze_all:\n",
    "            for layer in model.layers:\n",
    "                model.trainable = False\n",
    "        \n",
    "        elif (freeze_till is not None) or (freeze_till > 0):\n",
    "            for layer in model.layers[:-freeze_till]:\n",
    "                model.trainable = False\n",
    "                \n",
    "        flatten_in = tf.keras.layers.Flatten()(model.output)\n",
    "        flcn_layers = tf.keras.layers.Dense(units=classes, activation='softmax')(flatten_in)\n",
    "        \n",
    "        full_model = tf.keras.models.Model(\n",
    "            inputs = model.input,\n",
    "            outputs = flcn_layers\n",
    "        )\n",
    "        \n",
    "        full_model.compile(\n",
    "            optimizer= tf.keras.optimizers.Adam(learning_rate=learning_rate),\n",
    "            loss = tf.keras.losses.CategoricalCrossentropy(),\n",
    "            metrics = ['recall']\n",
    "        )\n",
    "        \n",
    "        full_model.summary()\n",
    "        \n",
    "        return full_model\n",
    "\n",
    "    def updated_base_model(self):\n",
    "        self.full_model = self.prepare_full_model(\n",
    "            model= self.model,\n",
    "            classes= self.config.params_classes,\n",
    "            freeze_all=True,\n",
    "            freeze_till=None,\n",
    "            learning_rate= self.config.params_learning_rate\n",
    "        )\n",
    "        \n",
    "        self.save_model(path= self.config.updated_base_model_path, model= self.full_model)\n",
    "    \n",
    "    @staticmethod\n",
    "    def save_model(path: Path,\n",
    "                   model: tf.keras.Model):\n",
    "        model.save(path)\n",
    "        "
   ]
  },
  {
   "cell_type": "code",
   "execution_count": 30,
   "metadata": {},
   "outputs": [
    {
     "name": "stdout",
     "output_type": "stream",
     "text": [
      "[2023-07-10 23:07:46,666: INFO: common: yaml file: config.yaml loaded successfully]\n",
      "[2023-07-10 23:07:46,669: INFO: common: yaml file: params.yaml loaded successfully]\n",
      "[2023-07-10 23:07:46,669: INFO: common: created directory at: artifacts]\n",
      "[2023-07-10 23:07:46,670: INFO: common: created directory at: artifacts/prepare_base_model]\n",
      "[2023-07-10 23:07:47,005: WARNING: saving_utils: Compiled the loaded model, but the compiled metrics have yet to be built. `model.compile_metrics` will be empty until you train or evaluate the model.]\n"
     ]
    }
   ],
   "source": [
    "try:\n",
    "    config = ConfigManager()\n",
    "    prepare_base_model_config = config.prepare_base_model_config()\n",
    "    prepare_base_model = PrepareBaseModel(config=prepare_base_model_config)\n",
    "    prepare_base_model.get_base_model()\n",
    "    prepare_base_model.updated_base_model()\n",
    "except Exception as e:\n",
    "    raise e"
   ]
  },
  {
   "cell_type": "code",
   "execution_count": null,
   "metadata": {},
   "outputs": [],
   "source": []
  }
 ],
 "metadata": {
  "kernelspec": {
   "display_name": "tomato",
   "language": "python",
   "name": "python3"
  },
  "language_info": {
   "codemirror_mode": {
    "name": "ipython",
    "version": 3
   },
   "file_extension": ".py",
   "mimetype": "text/x-python",
   "name": "python",
   "nbconvert_exporter": "python",
   "pygments_lexer": "ipython3",
   "version": "3.8.17"
  },
  "orig_nbformat": 4
 },
 "nbformat": 4,
 "nbformat_minor": 2
}
